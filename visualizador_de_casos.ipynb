{
 "cells": [
  {
   "cell_type": "markdown",
   "id": "golden-opinion",
   "metadata": {},
   "source": [
    "# Herramienta visual para los casos simulados del Semáforo de Riesgos"
   ]
  },
  {
   "cell_type": "markdown",
   "id": "hourly-cedar",
   "metadata": {},
   "source": [
    "Primero importamos las librerias y convertimos los casos a dataframes para su mejor manejo.\n"
   ]
  },
  {
   "cell_type": "code",
   "execution_count": 4,
   "id": "essential-patch",
   "metadata": {},
   "outputs": [
    {
     "data": {
      "text/html": [
       "<div>\n",
       "<style scoped>\n",
       "    .dataframe tbody tr th:only-of-type {\n",
       "        vertical-align: middle;\n",
       "    }\n",
       "\n",
       "    .dataframe tbody tr th {\n",
       "        vertical-align: top;\n",
       "    }\n",
       "\n",
       "    .dataframe thead th {\n",
       "        text-align: right;\n",
       "    }\n",
       "</style>\n",
       "<table border=\"1\" class=\"dataframe\">\n",
       "  <thead>\n",
       "    <tr style=\"text-align: right;\">\n",
       "      <th></th>\n",
       "      <th>Mag</th>\n",
       "      <th>Slat</th>\n",
       "      <th>Slong</th>\n",
       "      <th>dfis</th>\n",
       "      <th>dsen</th>\n",
       "      <th>U</th>\n",
       "      <th>Plat</th>\n",
       "      <th>Plong</th>\n",
       "      <th>P</th>\n",
       "      <th>V</th>\n",
       "      <th>IR</th>\n",
       "      <th>Sem</th>\n",
       "    </tr>\n",
       "  </thead>\n",
       "  <tbody>\n",
       "    <tr>\n",
       "      <th>0</th>\n",
       "      <td>4.0</td>\n",
       "      <td>16.75</td>\n",
       "      <td>-99.46</td>\n",
       "      <td>0.5</td>\n",
       "      <td>1.5</td>\n",
       "      <td>1.5</td>\n",
       "      <td>19.70078</td>\n",
       "      <td>-101.18443</td>\n",
       "      <td>2</td>\n",
       "      <td>4.0</td>\n",
       "      <td>3.00</td>\n",
       "      <td>verde</td>\n",
       "    </tr>\n",
       "    <tr>\n",
       "      <th>1</th>\n",
       "      <td>4.0</td>\n",
       "      <td>16.75</td>\n",
       "      <td>-99.46</td>\n",
       "      <td>2.5</td>\n",
       "      <td>2.5</td>\n",
       "      <td>1.0</td>\n",
       "      <td>18.92610</td>\n",
       "      <td>-99.23075</td>\n",
       "      <td>2</td>\n",
       "      <td>7.0</td>\n",
       "      <td>4.50</td>\n",
       "      <td>verde</td>\n",
       "    </tr>\n",
       "    <tr>\n",
       "      <th>2</th>\n",
       "      <td>4.0</td>\n",
       "      <td>16.75</td>\n",
       "      <td>-99.46</td>\n",
       "      <td>2.5</td>\n",
       "      <td>1.5</td>\n",
       "      <td>0.5</td>\n",
       "      <td>16.84942</td>\n",
       "      <td>-99.90891</td>\n",
       "      <td>2</td>\n",
       "      <td>7.0</td>\n",
       "      <td>4.50</td>\n",
       "      <td>verde</td>\n",
       "    </tr>\n",
       "    <tr>\n",
       "      <th>3</th>\n",
       "      <td>4.0</td>\n",
       "      <td>16.75</td>\n",
       "      <td>-99.46</td>\n",
       "      <td>1.0</td>\n",
       "      <td>1.5</td>\n",
       "      <td>1.0</td>\n",
       "      <td>19.03793</td>\n",
       "      <td>-98.20346</td>\n",
       "      <td>2</td>\n",
       "      <td>4.5</td>\n",
       "      <td>3.25</td>\n",
       "      <td>verde</td>\n",
       "    </tr>\n",
       "    <tr>\n",
       "      <th>4</th>\n",
       "      <td>4.0</td>\n",
       "      <td>16.75</td>\n",
       "      <td>-99.46</td>\n",
       "      <td>1.0</td>\n",
       "      <td>2.5</td>\n",
       "      <td>1.5</td>\n",
       "      <td>19.70078</td>\n",
       "      <td>-101.18443</td>\n",
       "      <td>2</td>\n",
       "      <td>5.5</td>\n",
       "      <td>3.75</td>\n",
       "      <td>verde</td>\n",
       "    </tr>\n",
       "  </tbody>\n",
       "</table>\n",
       "</div>"
      ],
      "text/plain": [
       "   Mag   Slat  Slong  dfis  dsen    U      Plat      Plong  P    V    IR  \\\n",
       "0  4.0  16.75 -99.46   0.5   1.5  1.5  19.70078 -101.18443  2  4.0  3.00   \n",
       "1  4.0  16.75 -99.46   2.5   2.5  1.0  18.92610  -99.23075  2  7.0  4.50   \n",
       "2  4.0  16.75 -99.46   2.5   1.5  0.5  16.84942  -99.90891  2  7.0  4.50   \n",
       "3  4.0  16.75 -99.46   1.0   1.5  1.0  19.03793  -98.20346  2  4.5  3.25   \n",
       "4  4.0  16.75 -99.46   1.0   2.5  1.5  19.70078 -101.18443  2  5.5  3.75   \n",
       "\n",
       "     Sem  \n",
       "0  verde  \n",
       "1  verde  \n",
       "2  verde  \n",
       "3  verde  \n",
       "4  verde  "
      ]
     },
     "execution_count": 4,
     "metadata": {},
     "output_type": "execute_result"
    }
   ],
   "source": [
    "from geopy.geocoders import Nominatim\n",
    "import pandas as pd\n",
    "import reverse_geocoder as rg\n",
    "data = pd.read_csv(\"casos_simulados.csv\") \n",
    "data.head()"
   ]
  },
  {
   "cell_type": "markdown",
   "id": "rocky-easter",
   "metadata": {},
   "source": [
    "Las columnas representan los siguientes valores:\n",
    "### Sismo o V1\n",
    "* Mag: Magnitud del sismo.\n",
    "* Slat: Latitud del epicentro del sismo\n",
    "* Slong: Longitud del epicentro del sismo\n",
    "### Persona o V2 \n",
    "* dfis: Características fisiologicas.\n",
    "* dsen: Características sensoriales.\n",
    "* U: Ubicación de la persona en relación al sismo.\n",
    "* Plat: Latitud de la persona.\n",
    "* Plong: Longitud de la persona.\n",
    "### Peligro\n",
    "* P: Índice de peligro\n",
    "### Vulnerabilidad\n",
    "* V: Índice de Vulnerabilidad\n",
    "### Índice de Riesgo\n",
    "* IR: Índice de Riesgo\n",
    "### Semáforo de Riesgo\n",
    "* Sem: Color del Semáforo"
   ]
  },
  {
   "cell_type": "markdown",
   "id": "featured-radius",
   "metadata": {},
   "source": [
    "Para una mejor visualización se cambiarán los datos de geolocalización a ciudades.\n",
    "Creare otro DataFrame para visualizar los epicentros y las ubicaciones de los usuarios."
   ]
  },
  {
   "cell_type": "code",
   "execution_count": 3,
   "id": "suitable-syria",
   "metadata": {},
   "outputs": [],
   "source": [
    "def get_city(lat,long):\n",
    "    loc = rg.search((lat,long))\n",
    "    return loc[0]['name'],loc[0]['admin1']\n"
   ]
  },
  {
   "cell_type": "code",
   "execution_count": 5,
   "id": "separate-philip",
   "metadata": {},
   "outputs": [
    {
     "name": "stdout",
     "output_type": "stream",
     "text": [
      "Loading formatted geocoded file...\n"
     ]
    },
    {
     "data": {
      "text/html": [
       "<div>\n",
       "<style scoped>\n",
       "    .dataframe tbody tr th:only-of-type {\n",
       "        vertical-align: middle;\n",
       "    }\n",
       "\n",
       "    .dataframe tbody tr th {\n",
       "        vertical-align: top;\n",
       "    }\n",
       "\n",
       "    .dataframe thead th {\n",
       "        text-align: right;\n",
       "    }\n",
       "</style>\n",
       "<table border=\"1\" class=\"dataframe\">\n",
       "  <thead>\n",
       "    <tr style=\"text-align: right;\">\n",
       "      <th></th>\n",
       "      <th>Magnitud</th>\n",
       "      <th>Epicentro</th>\n",
       "      <th>Ubicacion_Persona</th>\n",
       "      <th>Semaforo</th>\n",
       "    </tr>\n",
       "  </thead>\n",
       "  <tbody>\n",
       "    <tr>\n",
       "      <th>0</th>\n",
       "      <td>4.0</td>\n",
       "      <td>(Llano de la Puerta, Guerrero)</td>\n",
       "      <td>(Morelia, Michoacan)</td>\n",
       "      <td>verde</td>\n",
       "    </tr>\n",
       "    <tr>\n",
       "      <th>1</th>\n",
       "      <td>4.0</td>\n",
       "      <td>(Llano de la Puerta, Guerrero)</td>\n",
       "      <td>(Cuernavaca, Morelos)</td>\n",
       "      <td>verde</td>\n",
       "    </tr>\n",
       "    <tr>\n",
       "      <th>2</th>\n",
       "      <td>4.0</td>\n",
       "      <td>(Llano de la Puerta, Guerrero)</td>\n",
       "      <td>(Acapulco de Juarez, Guerrero)</td>\n",
       "      <td>verde</td>\n",
       "    </tr>\n",
       "    <tr>\n",
       "      <th>3</th>\n",
       "      <td>4.0</td>\n",
       "      <td>(Llano de la Puerta, Guerrero)</td>\n",
       "      <td>(Puebla, Puebla)</td>\n",
       "      <td>verde</td>\n",
       "    </tr>\n",
       "    <tr>\n",
       "      <th>4</th>\n",
       "      <td>4.0</td>\n",
       "      <td>(Llano de la Puerta, Guerrero)</td>\n",
       "      <td>(Morelia, Michoacan)</td>\n",
       "      <td>verde</td>\n",
       "    </tr>\n",
       "  </tbody>\n",
       "</table>\n",
       "</div>"
      ],
      "text/plain": [
       "   Magnitud                       Epicentro               Ubicacion_Persona  \\\n",
       "0       4.0  (Llano de la Puerta, Guerrero)            (Morelia, Michoacan)   \n",
       "1       4.0  (Llano de la Puerta, Guerrero)           (Cuernavaca, Morelos)   \n",
       "2       4.0  (Llano de la Puerta, Guerrero)  (Acapulco de Juarez, Guerrero)   \n",
       "3       4.0  (Llano de la Puerta, Guerrero)                (Puebla, Puebla)   \n",
       "4       4.0  (Llano de la Puerta, Guerrero)            (Morelia, Michoacan)   \n",
       "\n",
       "  Semaforo  \n",
       "0    verde  \n",
       "1    verde  \n",
       "2    verde  \n",
       "3    verde  \n",
       "4    verde  "
      ]
     },
     "execution_count": 5,
     "metadata": {},
     "output_type": "execute_result"
    }
   ],
   "source": [
    "df2= pd.DataFrame(data.apply(lambda row: get_city(row.Slat,row.Slong),axis=1),columns=['Epicentro'])\n",
    "df2['Ubicacion_Persona']=data.apply(lambda row: get_city(row.Plat,row.Plong),axis=1)\n",
    "df2.insert(0,'Magnitud',data.Mag)\n",
    "df2['Semaforo'] = data.Sem\n",
    "df2.head()\n"
   ]
  },
  {
   "cell_type": "markdown",
   "id": "silent-intranet",
   "metadata": {},
   "source": [
    "### Visualización"
   ]
  },
  {
   "cell_type": "code",
   "execution_count": 14,
   "id": "liked-strap",
   "metadata": {},
   "outputs": [
    {
     "data": {
      "text/plain": [
       "<AxesSubplot:xlabel='Semaforo', ylabel='Magnitud'>"
      ]
     },
     "execution_count": 14,
     "metadata": {},
     "output_type": "execute_result"
    },
    {
     "data": {
      "image/png": "[encoded data removed]",
      "text/plain": [
       "<Figure size 432x288 with 1 Axes>"
      ]
     },
     "metadata": {
      "needs_background": "light"
     },
     "output_type": "display_data"
    }
   ],
   "source": [
    "df2.plot(kind='scatter',x='Semaforo',y='Magnitud')"
   ]
  },
  {
   "cell_type": "markdown",
   "id": "sharp-calibration",
   "metadata": {},
   "source": [
    "Podemos buscar casos particulares como el sismo de magnitud > 7.5 y  que resultó en semáforo verde."
   ]
  },
  {
   "cell_type": "code",
   "execution_count": 18,
   "id": "quantitative-clearing",
   "metadata": {},
   "outputs": [
    {
     "data": {
      "text/html": [
       "<div>\n",
       "<style scoped>\n",
       "    .dataframe tbody tr th:only-of-type {\n",
       "        vertical-align: middle;\n",
       "    }\n",
       "\n",
       "    .dataframe tbody tr th {\n",
       "        vertical-align: top;\n",
       "    }\n",
       "\n",
       "    .dataframe thead th {\n",
       "        text-align: right;\n",
       "    }\n",
       "</style>\n",
       "<table border=\"1\" class=\"dataframe\">\n",
       "  <thead>\n",
       "    <tr style=\"text-align: right;\">\n",
       "      <th></th>\n",
       "      <th>Magnitud</th>\n",
       "      <th>Epicentro</th>\n",
       "      <th>Ubicacion_Persona</th>\n",
       "      <th>Semaforo</th>\n",
       "    </tr>\n",
       "  </thead>\n",
       "  <tbody>\n",
       "    <tr>\n",
       "      <th>65</th>\n",
       "      <td>7.8</td>\n",
       "      <td>(La Resolana, Jalisco)</td>\n",
       "      <td>(Tuxtla Gutierrez, Chiapas)</td>\n",
       "      <td>verde</td>\n",
       "    </tr>\n",
       "  </tbody>\n",
       "</table>\n",
       "</div>"
      ],
      "text/plain": [
       "    Magnitud               Epicentro            Ubicacion_Persona Semaforo\n",
       "65       7.8  (La Resolana, Jalisco)  (Tuxtla Gutierrez, Chiapas)    verde"
      ]
     },
     "execution_count": 18,
     "metadata": {},
     "output_type": "execute_result"
    }
   ],
   "source": [
    "df2.loc[(df2.Magnitud > 7.5)&(df2.Semaforo == 'verde')]"
   ]
  },
  {
   "cell_type": "markdown",
   "id": "suburban-accused",
   "metadata": {},
   "source": [
    "Un sismo de magnitud mayor a 7 es considerado altamente peligroso, para comprender el color del semáforo consideremos cada una de las variables de este caso."
   ]
  },
  {
   "cell_type": "code",
   "execution_count": null,
   "id": "removed-charger",
   "metadata": {},
   "outputs": [],
   "source": []
  }
 ],
 "metadata": {
  "kernelspec": {
   "display_name": "Python 3",
   "language": "python",
   "name": "python3"
  },
  "language_info": {
   "codemirror_mode": {
    "name": "ipython",
    "version": 3
   },
   "file_extension": ".py",
   "mimetype": "text/x-python",
   "name": "python",
   "nbconvert_exporter": "python",
   "pygments_lexer": "ipython3",
   "version": "3.9.1"
  }
 },
 "nbformat": 4,
 "nbformat_minor": 5
}
